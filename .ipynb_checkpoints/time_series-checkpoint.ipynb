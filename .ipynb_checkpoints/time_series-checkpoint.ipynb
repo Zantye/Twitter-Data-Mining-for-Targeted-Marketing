{
 "cells": [
  {
   "cell_type": "code",
   "execution_count": null,
   "metadata": {},
   "outputs": [],
   "source": []
  },
  {
   "cell_type": "raw",
   "metadata": {},
   "source": [
    "\n",
    "from plotly.subplots import make_subplots\n",
    "fig = make_subplots(rows=2, cols=2,column_widths=[1, 0.4],row_heights=[0.6, 0.4],specs=[[{\"type\": \"scatter\", \"rowspan\": 2},{\"type\": \"choropleth\"}],[None, {\"type\": \"bar\"}]])\n",
    "\n",
    "\n",
    "fig.add_trace(go.Scatter(x=time_series,y=result[\"Num of '{}' mentions\".format(TABLE_NAME)][result['polarity']==0].reset_index(drop=True),name=\"Neural\",opacity=0.8), row=1, col=1)   \n",
    "\n",
    "fig.add_trace(go.Scatter(x=time_series,y=result[\"Num of '{}' mentions\".format(TABLE_NAME)][result['polarity']==-1].reset_index(drop=True),name=\"Negative\",opacity=0.8), row=1, col=1)\n",
    "\n",
    "fig.add_trace(go.Scatter(x=time_series,y=result[\"Num of '{}' mentions\".format(TABLE_NAME)][result['polarity']==1].reset_index(drop=True),name=\"Positive\",opacity=0.8), row=1, col=1)\n",
    "\n",
    "fig.add_trace(go.Bar(x=fd[\"Word\"], y=fd[\"Frequency\"],name=\"Freq Dist\"), row=2, col=2)\n",
    "\n",
    "fig.update_traces(marker_color='rgb(59, 89, 152)',marker_line_color='rgb(8,48,107)',marker_line_width=0.5, opacity=0.7, row=2, col=2)\n",
    "\n",
    "fig.show()"
   ]
  },
  {
   "cell_type": "code",
   "execution_count": 8,
   "metadata": {
    "scrolled": false
   },
   "outputs": [
    {
     "ename": "AttributeError",
     "evalue": "module 'active' has no attribute 'time_series1'",
     "output_type": "error",
     "traceback": [
      "\u001b[1;31m---------------------------------------------------------------------------\u001b[0m",
      "\u001b[1;31mAttributeError\u001b[0m                            Traceback (most recent call last)",
      "\u001b[1;32m<ipython-input-8-d5033d3de6a6>\u001b[0m in \u001b[0;36m<module>\u001b[1;34m\u001b[0m\n\u001b[0;32m     53\u001b[0m \u001b[1;31m# fig.show()\u001b[0m\u001b[1;33m\u001b[0m\u001b[1;33m\u001b[0m\u001b[1;33m\u001b[0m\u001b[0m\n\u001b[0;32m     54\u001b[0m \u001b[1;33m\u001b[0m\u001b[0m\n\u001b[1;32m---> 55\u001b[1;33m \u001b[0mactive\u001b[0m\u001b[1;33m.\u001b[0m\u001b[0mtime_series1\u001b[0m\u001b[1;33m(\u001b[0m\u001b[0mdf\u001b[0m\u001b[1;33m)\u001b[0m\u001b[1;33m\u001b[0m\u001b[1;33m\u001b[0m\u001b[0m\n\u001b[0m\u001b[0;32m     56\u001b[0m \u001b[0mactive\u001b[0m\u001b[1;33m.\u001b[0m\u001b[0mwordcloud\u001b[0m\u001b[1;33m(\u001b[0m\u001b[0mdf1\u001b[0m\u001b[1;33m[\u001b[0m\u001b[1;34m\"tweet_text\"\u001b[0m\u001b[1;33m]\u001b[0m\u001b[1;33m)\u001b[0m\u001b[1;33m\u001b[0m\u001b[1;33m\u001b[0m\u001b[0m\n\u001b[0;32m     57\u001b[0m \u001b[1;33m\u001b[0m\u001b[0m\n",
      "\u001b[1;31mAttributeError\u001b[0m: module 'active' has no attribute 'time_series1'"
     ]
    }
   ],
   "source": [
    "# -*- coding: utf-8 -*-\n",
    "\"\"\"\n",
    "Created on Thu Dec 12 09:57:24 2019\n",
    "\n",
    "@author: Parth\n",
    "\"\"\"\n",
    "import psycopg2\n",
    "import active\n",
    "import pickle\n",
    "import mysql.connector\n",
    "import pandas as pd\n",
    "import time\n",
    "import itertools\n",
    "import math\n",
    "import seaborn as sns\n",
    "import matplotlib.pyplot as plt\n",
    "import matplotlib as mpl\n",
    "import datetime\n",
    "from IPython.display import clear_output\n",
    "import plotly.express as px\n",
    "import plotly.offline as py\n",
    "import plotly.graph_objs as go\n",
    "from plotly.subplots import make_subplots\n",
    "import tweepy\n",
    "import numpy as np\n",
    "import re\n",
    "import nltk\n",
    "from nltk.probability import FreqDist\n",
    "from nltk.tokenize import word_tokenize\n",
    "from nltk.corpus import stopwords\n",
    "from textblob import TextBlob\n",
    "\n",
    "query_word='Hiranandani'\n",
    "word=['no_loco']\n",
    "query = \"SELECT id, username,tweet_text, created_at,polarity FROM {}\".format(word[0])\n",
    "query1= \"SELECT tweet_text from {} where polarity = -1\".format(word[0])\n",
    "\n",
    "try:     \n",
    "    conn = psycopg2.connect(database=query_word, user = \"postgres\", password = \"parth123n@#*\", host = \"127.0.0.1\", port = \"5432\")\n",
    "except:\n",
    "    print(\"Create database first\")\n",
    "\n",
    "df = pd.read_sql(query, con=conn)\n",
    "df1 = pd.read_sql(query1,con =conn)\n",
    "\n",
    "\n",
    "\n",
    "# result = df.groupby([pd.Grouper(key='created_at', freq='1D'), 'polarity']).count().unstack(fill_value=0).stack().reset_index()\n",
    "\n",
    "# result = result.rename(columns={\"id\": \"Num of '{}' mentions\".format('Hiranandani'), \"created_at\":\"Time in UTC\"})\n",
    "# time_series = result[\"Time in UTC\"][result['polarity']==0].reset_index(drop=True)\n",
    "# fig = px.line(result, x='Time in UTC', y=\"Num of '{}' mentions\".format('Hiranandani'), color='polarity')\n",
    "# fig.show()\n",
    "\n",
    "active.tseries(df)\n",
    "active.wordcloud(df1[\"tweet_text\"])\n",
    "\n"
   ]
  },
  {
   "cell_type": "code",
   "execution_count": 3,
   "metadata": {},
   "outputs": [],
   "source": []
  },
  {
   "cell_type": "code",
   "execution_count": null,
   "metadata": {},
   "outputs": [],
   "source": []
  }
 ],
 "metadata": {
  "kernelspec": {
   "display_name": "Python 3",
   "language": "python",
   "name": "python3"
  },
  "language_info": {
   "codemirror_mode": {
    "name": "ipython",
    "version": 3
   },
   "file_extension": ".py",
   "mimetype": "text/x-python",
   "name": "python",
   "nbconvert_exporter": "python",
   "pygments_lexer": "ipython3",
   "version": "3.7.3"
  }
 },
 "nbformat": 4,
 "nbformat_minor": 2
}
