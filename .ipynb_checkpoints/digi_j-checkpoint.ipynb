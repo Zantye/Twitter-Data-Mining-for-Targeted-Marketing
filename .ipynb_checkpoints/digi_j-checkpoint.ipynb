{
 "cells": [
  {
   "cell_type": "code",
   "execution_count": 0,
   "metadata": {
    "colab": {},
    "colab_type": "code",
    "id": "4_DAdXYFsbme"
   },
   "outputs": [],
   "source": [
    "!pip install GetOldTweets3"
   ]
  },
  {
   "cell_type": "code",
   "execution_count": 0,
   "metadata": {
    "colab": {
     "base_uri": "https://localhost:8080/",
     "height": 35
    },
    "colab_type": "code",
    "id": "6ds9YW6-44B8",
    "outputId": "fa00f02f-4358-4126-d20f-4b76e8c6d92b"
   },
   "outputs": [
    {
     "name": "stdout",
     "output_type": "stream",
     "text": [
      "1296\n"
     ]
    }
   ],
   "source": [
    "import GetOldTweets3 as got\n",
    "tweetCriteria = got.manager.TweetCriteria().setQuerySearch('(luxury homes mumbai) OR (modern homes mumbai) OR  (spacious homes mumbai) OR (clubhouse facilit mumbai) OR (gym facilit mumbai) OR  (township buidler mumbai) OR (premium builders in mumbai) OR (latest constructions mumbai) OR  (latest development mumbai) OR (fast construction mumbai) OR (quality builder mumbai) ').setSince(\"2019-01-01\").setUntil(\"2019-12-31\")\n",
    "\n",
    "tweets = got.manager.TweetManager.getTweets(tweetCriteria)\n",
    "print(len(tweets))\n"
   ]
  },
  {
   "cell_type": "code",
   "execution_count": 0,
   "metadata": {
    "colab": {},
    "colab_type": "code",
    "id": "vsl1ymJv13EO"
   },
   "outputs": [],
   "source": []
  },
  {
   "cell_type": "code",
   "execution_count": 0,
   "metadata": {
    "colab": {},
    "colab_type": "code",
    "id": "UnkjoX6541rD"
   },
   "outputs": [],
   "source": [
    "#############################################################################################"
   ]
  },
  {
   "cell_type": "code",
   "execution_count": 0,
   "metadata": {
    "colab": {},
    "colab_type": "code",
    "id": "VqS6F51ThlEj"
   },
   "outputs": [],
   "source": []
  },
  {
   "cell_type": "code",
   "execution_count": 0,
   "metadata": {
    "colab": {},
    "colab_type": "code",
    "id": "FRYwWKOGhlBT"
   },
   "outputs": [],
   "source": []
  },
  {
   "cell_type": "code",
   "execution_count": 0,
   "metadata": {
    "colab": {},
    "colab_type": "code",
    "id": "AAJN8_ze5sRC"
   },
   "outputs": [],
   "source": [
    "no=['decor','realt','digi','acre','resid','stock','group','article','project','commerc','brick','india','guru','new','market', \\\n",
    "    'enterp','vastu','astro','estate','mall','hous','mumbai','sky','room','home','flat','design','interior','furniture','trend', \\\n",
    "    'pack','build','work','propert','vastu','gym','loan','luxury','bloomberg','business','direct','time',\\\n",
    "    'revenue','day','bank','agen','job','minis','corpo','tech', \\\n",
    "    'boss','nation','associat','developer','broth','invest','people','dna','media','break','bombay','lodha','hiranandani']\n",
    "# se1=set()\n",
    "# for i in users1:\n",
    "#    if (i.username).lower() not in no:\n",
    "#     se1.add(i.username)\n",
    "# print(len(se1))\n"
   ]
  },
  {
   "cell_type": "code",
   "execution_count": 0,
   "metadata": {
    "colab": {},
    "colab_type": "code",
    "id": "uR6d4D1Y9piC"
   },
   "outputs": [],
   "source": [
    "finalset=set()\n",
    "for i in users:\n",
    "  for j in no:\n",
    "     if j in i.lower():\n",
    "       finalset.add(i)\n",
    "     \n",
    "       \n"
   ]
  },
  {
   "cell_type": "code",
   "execution_count": 0,
   "metadata": {
    "colab": {},
    "colab_type": "code",
    "id": "ZxcEDLAdCweO"
   },
   "outputs": [],
   "source": [
    "for i in finalset:\n",
    "  print(i)\n",
    "print(len(finalset))"
   ]
  },
  {
   "cell_type": "code",
   "execution_count": 0,
   "metadata": {
    "colab": {},
    "colab_type": "code",
    "id": "_dts2lRh7xu0"
   },
   "outputs": [],
   "source": [
    "h=users-finalset\n",
    "print(len(h))\n",
    "\n",
    "for i in h:\n",
    "  print(i)"
   ]
  },
  {
   "cell_type": "code",
   "execution_count": 0,
   "metadata": {
    "colab": {
     "base_uri": "https://localhost:8080/",
     "height": 35
    },
    "colab_type": "code",
    "id": "KV0A6qFTgwcj",
    "outputId": "443fbc5a-af69-494f-fb5a-4c0b4050f386"
   },
   "outputs": [
    {
     "name": "stdout",
     "output_type": "stream",
     "text": [
      "Drive already mounted at /content/drive; to attempt to forcibly remount, call drive.mount(\"/content/drive\", force_remount=True).\n"
     ]
    }
   ],
   "source": [
    "from google.colab import drive\n",
    "import pickle\n",
    "drive.mount('/content/drive')\n",
    "DATA_PATH = \"/content/drive/My Drive/Colab Notebooks/Internship/Usernames/Thane\"\n",
    "users4=open(DATA_PATH+'/slot3.pickle','wb')\n",
    "real_tweets3=pickle.dump(h,users4)\n",
    "users4.close()\n",
    "\n",
    "#print(len(real_tweets3))"
   ]
  },
  {
   "cell_type": "code",
   "execution_count": 0,
   "metadata": {
    "colab": {
     "base_uri": "https://localhost:8080/",
     "height": 35
    },
    "colab_type": "code",
    "id": "p3dA3de7_V02",
    "outputId": "3fcd1e20-2535-4d54-b1be-938151f1ab5a"
   },
   "outputs": [
    {
     "name": "stdout",
     "output_type": "stream",
     "text": [
      "1425\n"
     ]
    }
   ],
   "source": [
    "users4=open(DATA_PATH+'/slot2.pickle','rb')\n",
    "real_tweets3=pickle.load(users4)\n",
    "users4.close()\n",
    "\n",
    "print(len(real_tweets3))"
   ]
  }
 ],
 "metadata": {
  "accelerator": "TPU",
  "colab": {
   "collapsed_sections": [],
   "name": "digi_j.ipynb",
   "provenance": []
  },
  "kernelspec": {
   "display_name": "Python 3",
   "language": "python",
   "name": "python3"
  },
  "language_info": {
   "codemirror_mode": {
    "name": "ipython",
    "version": 3
   },
   "file_extension": ".py",
   "mimetype": "text/x-python",
   "name": "python",
   "nbconvert_exporter": "python",
   "pygments_lexer": "ipython3",
   "version": "3.7.3"
  }
 },
 "nbformat": 4,
 "nbformat_minor": 1
}
